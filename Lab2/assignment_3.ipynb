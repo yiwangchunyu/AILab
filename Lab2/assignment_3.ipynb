{
 "cells": [
  {
   "cell_type": "markdown",
   "metadata": {},
   "source": [
    "局部搜索算法"
   ]
  },
  {
   "cell_type": "code",
   "execution_count": 87,
   "metadata": {},
   "outputs": [],
   "source": [
    "from scipy.misc import imsave  \n",
    "import numpy as np\n",
    "%matplotlib inline\n",
    "import matplotlib.pyplot as plt\n",
    "import random\n",
    "import time"
   ]
  },
  {
   "cell_type": "code",
   "execution_count": 88,
   "metadata": {},
   "outputs": [],
   "source": [
    "class Point(object):\n",
    "    def __init__(self,pos,parent,deepth):\n",
    "        self.parent=parent #标记父亲节点指针\n",
    "        self.pos=pos  #当前点的位置\n",
    "        self.deepth=deepth#当前节点深度"
   ]
  },
  {
   "cell_type": "code",
   "execution_count": 89,
   "metadata": {},
   "outputs": [],
   "source": [
    "#起点到当前点的耗散值\n",
    "def g(node):\n",
    "    return node.deepth\n",
    "\n",
    "#启发函数\n",
    "def h(node,target):\n",
    "    pos=node.pos\n",
    "    #v1=np.array(node.pos)\n",
    "    #v2=np.array(target)\n",
    "    #return  np.linalg.norm(v1 - v2) #2范数，即欧氏距离\n",
    "    if abs(pos[0]-target[0])>abs(pos[1]-target[1]):\n",
    "        return abs(pos[0]-target[0])\n",
    "    else:\n",
    "        return abs(pos[1]-target[1])"
   ]
  },
  {
   "cell_type": "code",
   "execution_count": 90,
   "metadata": {},
   "outputs": [],
   "source": [
    "#评估函数\n",
    "def ff(node,target):\n",
    "    return g(node)+h(node,target)"
   ]
  },
  {
   "cell_type": "code",
   "execution_count": 91,
   "metadata": {},
   "outputs": [],
   "source": [
    "#评估函数相等时的排序方法\n",
    "def possibility(node,target):\n",
    "    v1=np.array(node.pos)\n",
    "    v2=np.array(target)\n",
    "    return  np.linalg.norm(v1 - v2) #2范数，即欧氏距离"
   ]
  },
  {
   "cell_type": "code",
   "execution_count": 92,
   "metadata": {},
   "outputs": [],
   "source": [
    "def draw_map(barrier,path=None,expand_point=None):\n",
    "    \n",
    "    fig = plt.figure(figsize=(13,13)) \n",
    "    plt.scatter(x=[x[0] for x in barrier] ,y=[x[1] for x in barrier],c = 'r',marker = 's') \n",
    "    if expand_point!=None:\n",
    "        plt.scatter(x=[x[0] for x in expand_point] ,y=[x[1] for x in expand_point],c = 'c',marker = 's') \n",
    "    if path!=None:\n",
    "        plt.scatter(x=[x[0] for x in path] ,y=[x[1] for x in path],c = 'b',marker = 's') \n",
    "    plt.gca().invert_yaxis() \n",
    "    plt.show() "
   ]
  },
  {
   "cell_type": "code",
   "execution_count": 93,
   "metadata": {},
   "outputs": [],
   "source": [
    "def open_sort(open_list,target):\n",
    "    open_list.sort(key=lambda x: (ff(x,target),possibility(x,target)))\n",
    "    #print([item.pos for item in open_list])\n",
    "    #print([ff(item,target) for item in open_list])\n",
    "    return open_list"
   ]
  },
  {
   "cell_type": "code",
   "execution_count": 94,
   "metadata": {},
   "outputs": [],
   "source": [
    "def expand_first(open_list,closed_list,barrier,target):\n",
    "    point=open_list[0]#取open表第一个元素\n",
    "    pos=point.pos\n",
    "    closed_list.append(point)#将当前节点加入closed表\n",
    "    open_pos=[item.pos for item in open_list]\n",
    "    #print(open_pos)\n",
    "    closed_pos=[item.pos for item in closed_list]\n",
    "    if point.pos==target:\n",
    "        return True,open_list,closed_list,point\n",
    "    else:\n",
    "        #扩展周围的点\n",
    "        neighbors = [[pos[0]-1,pos[1]-1],[pos[0]-1,pos[1]],[pos[0]-1,pos[1]+1],[pos[0],pos[1]-1],[pos[0],pos[1]+1],[pos[0]+1,pos[1]-1],[pos[0]+1,pos[1]],[pos[0]+1,pos[1]+1]]\n",
    "        neighbor_point_list=[]\n",
    "        for neighbor in neighbors:\n",
    "            if neighbor[0]>=0 and neighbor[1]>=0 and neighbor[0]<=99 and neighbor[1]<=99  and neighbor not in barrier and neighbor not in closed_pos:\n",
    "                temp_point=Point(neighbor,point,point.deepth+1)\n",
    "                neighbor_point_list.append(temp_point)\n",
    "        if len(neighbor_point_list)!=0:\n",
    "            open_sort(neighbor_point_list,target)\n",
    "            neighbor=neighbor_point_list[0].pos\n",
    "            if neighbor not in open_pos and neighbor not in closed_pos:#新节点\n",
    "                neighbor_point=Point(neighbor,point,point.deepth+1)\n",
    "                open_list.append(neighbor_point)\n",
    "                open_pos.append(neighbor)\n",
    "            elif neighbor in open_pos:#待扩展节点\n",
    "                for item in open_list:\n",
    "                    if item.pos==neighbor:\n",
    "                        if g(point)+h(item,target)+1<ff(item,target):\n",
    "                            item.parent=point  #标记父节点指针\n",
    "                            item.deepth=point.deepth+1\n",
    "                            break\n",
    "            else :#在closed表中的已扩展的点\n",
    "                for item in closed_list:\n",
    "                    if item.pos==neighbor:\n",
    "                        if g(point)+h(item,target)<ff(item,target):\n",
    "                            item.parent=point  #标记父节点指针\n",
    "                            item.deepth=point.deepth+1\n",
    "                            open_list.append(item)\n",
    "                            open_pos.append(item.pos)\n",
    "                            closed_pos.remove(item.pos)\n",
    "                            closed_list.remove(item)\n",
    "                            break\n",
    "                                \n",
    "        return False,open_list[1:],closed_list,point"
   ]
  },
  {
   "cell_type": "code",
   "execution_count": 95,
   "metadata": {},
   "outputs": [],
   "source": [
    "map_list=[]\n",
    "\n",
    "f = open(\"data/0.25.txt\", \"r\")\n",
    "#将地图数据读进map中\n",
    "for i in range(100):\n",
    "    line=f.readline()\n",
    "    row=list(line)#转化为数组\n",
    "    row.pop()#去除尾部换行符\n",
    "    map_list.append(row)\n",
    "#print(map_list)\n",
    "f.close()"
   ]
  },
  {
   "cell_type": "code",
   "execution_count": 96,
   "metadata": {},
   "outputs": [
    {
     "data": {
      "image/png": "[encoded data removed]",
      "text/plain": [
       "<Figure size 936x936 with 1 Axes>"
      ]
     },
     "metadata": {},
     "output_type": "display_data"
    }
   ],
   "source": [
    "barrier=[]\n",
    "empty=[]\n",
    "for index_x in range(100):\n",
    "    for index_y in range(100):\n",
    "        if map_list[index_x][index_y]=='1':\n",
    "            barrier.append([index_y,index_x])\n",
    "        if map_list[index_x][index_y]=='0':\n",
    "            empty.append([index_y,index_x])\n",
    "draw_map(barrier)"
   ]
  },
  {
   "cell_type": "code",
   "execution_count": 97,
   "metadata": {},
   "outputs": [],
   "source": [
    "def search_path(start,target,barrier,draw=True,print_path=True):\n",
    "    path=[]\n",
    "    expand_point=[]\n",
    "    open_list=[]\n",
    "    closed_list=[]\n",
    "    if start in barrier or target in barrier:\n",
    "        print('No Path')\n",
    "    else:\n",
    "        point = Point(start,None,0)\n",
    "        open_list.append(point)\n",
    "\n",
    "        while len(open_list):\n",
    "\n",
    "            istarget,open_list,closed_list,target_point=expand_first(open_list,closed_list,barrier,target)\n",
    "            #open_list=open_sort(open_list,target)\n",
    "            #print([item.pos for item in open_list])\n",
    "            if istarget==True:\n",
    "                while target_point.parent!=None:\n",
    "                    path.append(target_point.pos)\n",
    "                    target_point=target_point.parent\n",
    "                path.append(start)\n",
    "                path.reverse()\n",
    "                if print_path:\n",
    "                    print(path)\n",
    "                break;\n",
    "        if len(open_list)==0:\n",
    "            print('No Path')\n",
    "        if draw:\n",
    "            visited=[item.pos for item in closed_list]\n",
    "            draw_map(barrier,path,visited)"
   ]
  },
  {
   "cell_type": "code",
   "execution_count": 98,
   "metadata": {},
   "outputs": [
    {
     "name": "stdout",
     "output_type": "stream",
     "text": [
      "[[4, 0], [5, 1], [6, 2], [6, 3], [7, 4], [7, 5], [8, 6], [8, 7], [7, 8], [8, 9], [9, 9], [10, 9], [11, 9], [12, 10], [13, 11], [13, 12], [14, 13], [15, 14], [16, 15], [16, 16], [17, 17], [18, 17], [19, 18], [20, 19], [21, 20], [21, 21], [22, 22], [22, 23], [23, 24], [24, 25], [25, 25], [26, 25], [27, 26], [28, 27], [28, 28], [29, 29], [29, 30], [30, 31], [31, 32], [32, 33], [33, 34], [34, 35], [35, 36], [36, 37], [37, 37], [38, 38], [39, 38], [40, 39], [40, 40], [40, 41], [41, 42], [42, 43], [43, 44], [44, 45], [45, 45], [46, 45], [47, 45], [48, 46], [48, 47], [49, 48], [49, 49], [50, 50], [51, 51], [52, 52], [53, 53], [54, 54], [55, 55], [56, 56], [57, 57], [58, 58], [59, 59], [60, 60], [61, 61], [62, 62], [63, 63], [64, 64], [65, 65], [66, 66], [67, 67], [66, 68], [67, 69], [68, 69], [69, 70], [70, 69], [71, 70], [72, 71], [73, 72], [73, 73], [74, 74], [75, 75], [76, 76], [76, 77], [77, 78], [78, 79], [79, 80], [80, 81], [81, 81], [82, 81], [83, 82], [84, 83], [85, 84], [86, 85], [87, 86], [88, 87], [89, 88], [90, 89], [91, 90], [92, 91], [93, 92], [94, 93], [95, 94], [96, 95], [97, 96], [97, 97], [98, 98], [99, 99]]\n"
     ]
    },
    {
     "data": {
      "image/png": "[encoded data removed]",
      "text/plain": [
       "<Figure size 936x936 with 1 Axes>"
      ]
     },
     "metadata": {},
     "output_type": "display_data"
    }
   ],
   "source": [
    "#测试用例\n",
    "start=[4, 0]\n",
    "target=[99, 99]\n",
    "search_path(start,target,barrier,True)"
   ]
  },
  {
   "cell_type": "code",
   "execution_count": 99,
   "metadata": {},
   "outputs": [
    {
     "name": "stdout",
     "output_type": "stream",
     "text": [
      "[33, 7][25, 38]\n",
      "[25, 65][28, 93]\n",
      "[10, 31][33, 46]\n",
      "[25, 80][39, 87]\n",
      "[31, 52][97, 60]\n",
      "[82, 75][66, 44]\n",
      "[79, 37][55, 71]\n",
      "[30, 45][57, 37]\n",
      "[38, 50][42, 42]\n",
      "[92, 29][27, 41]\n",
      "[85, 20][7, 22]\n",
      "[64, 76][24, 56]\n",
      "[24, 81][69, 36]\n",
      "[79, 97][17, 52]\n",
      "No Path\n",
      "[91, 21][28, 13]\n",
      "[76, 33][38, 28]\n",
      "[26, 99][54, 0]\n",
      "[14, 7][30, 65]\n",
      "[29, 58][8, 46]\n",
      "[53, 16][65, 15]\n",
      "[90, 43][58, 45]\n",
      "[86, 25][0, 68]\n",
      "[1, 60][59, 84]\n",
      "[79, 20][97, 83]\n",
      "[95, 15][33, 39]\n",
      "[74, 47][69, 69]\n",
      "[62, 22][65, 41]\n",
      "[16, 44][49, 18]\n",
      "[28, 93][11, 13]\n",
      "[83, 96][6, 24]\n",
      "[84, 21][84, 48]\n",
      "[59, 0][99, 54]\n",
      "[3, 6][73, 64]\n",
      "[77, 82][94, 89]\n",
      "[85, 55][95, 82]\n",
      "[42, 16][46, 23]\n",
      "[85, 24][85, 18]\n",
      "[71, 54][67, 86]\n",
      "[40, 90][14, 78]\n",
      "[29, 71][9, 72]\n",
      "[59, 34][16, 5]\n",
      "[23, 21][31, 93]\n",
      "[28, 14][64, 89]\n",
      "[82, 21][32, 35]\n",
      "[47, 2][64, 10]\n",
      "[97, 2][8, 88]\n",
      "[90, 85][66, 80]\n",
      "[66, 74][55, 84]\n",
      "[88, 78][16, 40]\n",
      "[90, 76][93, 23]\n"
     ]
    },
    {
     "data": {
      "text/plain": [
       "0.037598900785635575"
      ]
     },
     "execution_count": 99,
     "metadata": {},
     "output_type": "execute_result"
    }
   ],
   "source": [
    "#批量生成随机值测试，时间评估\n",
    "#为了精确测量，我们测量多次求其平均值\n",
    "time_list=[]\n",
    "for i in range(50):\n",
    "    index_start=random.randint(0,len(empty))#只从空白的点选取开始和结束点\n",
    "    index_target=random.randint(0,len(empty))\n",
    "\n",
    "    start=empty[index_start]\n",
    "    target=empty[index_target]\n",
    "    print(start,end='')\n",
    "    print(target)\n",
    "    time_start=time.clock()\n",
    "    search_path(start,target,barrier,False,False)  #画图等I/O操作相当耗费时间，不应计算在时间内,设为false\n",
    "    time_end=time.clock()\n",
    "    time_list.append(time_end-time_start)\n",
    "time_avg=sum(time_list)/len(time_list)\n",
    "time_avg"
   ]
  },
  {
   "cell_type": "code",
   "execution_count": null,
   "metadata": {},
   "outputs": [],
   "source": []
  },
  {
   "cell_type": "code",
   "execution_count": null,
   "metadata": {},
   "outputs": [],
   "source": []
  }
 ],
 "metadata": {
  "kernelspec": {
   "display_name": "Python 3",
   "language": "python",
   "name": "python3"
  },
  "language_info": {
   "codemirror_mode": {
    "name": "ipython",
    "version": 3
   },
   "file_extension": ".py",
   "mimetype": "text/x-python",
   "name": "python",
   "nbconvert_exporter": "python",
   "pygments_lexer": "ipython3",
   "version": "3.6.4"
  }
 },
 "nbformat": 4,
 "nbformat_minor": 2
}
